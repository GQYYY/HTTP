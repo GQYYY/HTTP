{
 "cells": [
  {
   "cell_type": "code",
   "execution_count": 12,
   "metadata": {},
   "outputs": [],
   "source": [
    "import socket"
   ]
  },
  {
   "cell_type": "code",
   "execution_count": 13,
   "metadata": {},
   "outputs": [],
   "source": [
    "target_host = 'xxx123.tk'\n",
    "target_port = 80"
   ]
  },
  {
   "cell_type": "code",
   "execution_count": 14,
   "metadata": {},
   "outputs": [],
   "source": [
    "#要发送的http请求，字符串形式\n",
    "request = b'GET / HTTP/1.1\\r\\nHost:xxx123.tk\\r\\n\\r\\n'"
   ]
  },
  {
   "cell_type": "code",
   "execution_count": 15,
   "metadata": {},
   "outputs": [
    {
     "data": {
      "text/plain": [
       "34"
      ]
     },
     "execution_count": 15,
     "metadata": {},
     "output_type": "execute_result"
    }
   ],
   "source": [
    "#建立一个socket对象\n",
    "client = socket.socket(socket.AF_INET,socket.SOCK_STREAM)\n",
    "#客户端链接服务器端\n",
    "client.connect((target_host,target_port))\n",
    "#发送数据\n",
    "client.send(request)"
   ]
  },
  {
   "cell_type": "code",
   "execution_count": 16,
   "metadata": {},
   "outputs": [],
   "source": [
    "#接收服务器返回的resonse\n",
    "#返回bypes类型\n",
    "response = client.recv(4096)"
   ]
  },
  {
   "cell_type": "code",
   "execution_count": 17,
   "metadata": {},
   "outputs": [
    {
     "name": "stdout",
     "output_type": "stream",
     "text": [
      "b'HTTP/1.1 200 OK\\r\\nServer: nginx/1.13.6\\r\\nDate: Mon, 04 Dec 2017 16:42:32 GMT\\r\\nContent-Type: text/html\\r\\nContent-Length: 326\\r\\nConnection: keep-alive\\r\\nLast-Modified: Mon, 13 Nov 2017 15:30:37 GMT\\r\\nETag: \"5a09ba9d-146\"\\r\\nX-Via: 127.0.0.1\\r\\nX-Cache: HIT\\r\\nAccept-Ranges: bytes\\r\\n\\r\\n<!DOCTYPE html>\\n<html>\\n<head>\\n<title>Welcome to xxx123.tk!</title>\\n<style>\\n    body {\\n        width: 35em;\\n        margin: 0 auto;\\n        font-family: Tahoma, Verdana, Arial, sans-serif;\\n    }\\n</style>\\n</head>\\n<body>\\n<h1>This is the homepage of xxx123.tk!</h1>\\n\\n<p><em>Thank you for using xxx123.tk.</em></p>\\n</body>\\n</html>\\n'\n"
     ]
    }
   ],
   "source": [
    "print (response)"
   ]
  },
  {
   "cell_type": "code",
   "execution_count": 18,
   "metadata": {},
   "outputs": [
    {
     "name": "stdout",
     "output_type": "stream",
     "text": [
      "HTTP/1.1 200 OK\r\n",
      "Server: nginx/1.13.6\r\n",
      "Date: Mon, 04 Dec 2017 16:42:32 GMT\r\n",
      "Content-Type: text/html\r\n",
      "Content-Length: 326\r\n",
      "Connection: keep-alive\r\n",
      "Last-Modified: Mon, 13 Nov 2017 15:30:37 GMT\r\n",
      "ETag: \"5a09ba9d-146\"\r\n",
      "X-Via: 127.0.0.1\r\n",
      "X-Cache: HIT\r\n",
      "Accept-Ranges: bytes\r\n",
      "\r\n",
      "<!DOCTYPE html>\n",
      "<html>\n",
      "<head>\n",
      "<title>Welcome to xxx123.tk!</title>\n",
      "<style>\n",
      "    body {\n",
      "        width: 35em;\n",
      "        margin: 0 auto;\n",
      "        font-family: Tahoma, Verdana, Arial, sans-serif;\n",
      "    }\n",
      "</style>\n",
      "</head>\n",
      "<body>\n",
      "<h1>This is the homepage of xxx123.tk!</h1>\n",
      "\n",
      "<p><em>Thank you for using xxx123.tk.</em></p>\n",
      "</body>\n",
      "</html>\n",
      "\n"
     ]
    }
   ],
   "source": [
    "response = bytes.decode(response)\n",
    "print (response)"
   ]
  },
  {
   "cell_type": "code",
   "execution_count": 19,
   "metadata": {},
   "outputs": [
    {
     "data": {
      "text/plain": [
       "['HTTP/1.1 200 OK',\n",
       " 'Server: nginx/1.13.6',\n",
       " 'Date: Mon, 04 Dec 2017 16:42:32 GMT',\n",
       " 'Content-Type: text/html',\n",
       " 'Content-Length: 326',\n",
       " 'Connection: keep-alive',\n",
       " 'Last-Modified: Mon, 13 Nov 2017 15:30:37 GMT',\n",
       " 'ETag: \"5a09ba9d-146\"',\n",
       " 'X-Via: 127.0.0.1',\n",
       " 'X-Cache: HIT',\n",
       " 'Accept-Ranges: bytes',\n",
       " '',\n",
       " '<!DOCTYPE html>\\n<html>\\n<head>\\n<title>Welcome to xxx123.tk!</title>\\n<style>\\n    body {\\n        width: 35em;\\n        margin: 0 auto;\\n        font-family: Tahoma, Verdana, Arial, sans-serif;\\n    }\\n</style>\\n</head>\\n<body>\\n<h1>This is the homepage of xxx123.tk!</h1>\\n\\n<p><em>Thank you for using xxx123.tk.</em></p>\\n</body>\\n</html>\\n']"
      ]
     },
     "execution_count": 19,
     "metadata": {},
     "output_type": "execute_result"
    }
   ],
   "source": [
    "response.split('\\r\\n')"
   ]
  },
  {
   "cell_type": "code",
   "execution_count": null,
   "metadata": {},
   "outputs": [],
   "source": []
  }
 ],
 "metadata": {
  "kernelspec": {
   "display_name": "Python 3",
   "language": "python",
   "name": "python3"
  },
  "language_info": {
   "codemirror_mode": {
    "name": "ipython",
    "version": 3
   },
   "file_extension": ".py",
   "mimetype": "text/x-python",
   "name": "python",
   "nbconvert_exporter": "python",
   "pygments_lexer": "ipython3",
   "version": "3.5.2"
  }
 },
 "nbformat": 4,
 "nbformat_minor": 2
}
