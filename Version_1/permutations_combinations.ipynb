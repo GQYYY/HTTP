{
 "cells": [
  {
   "cell_type": "code",
   "execution_count": 1,
   "metadata": {},
   "outputs": [],
   "source": [
    "import itertools"
   ]
  },
  {
   "cell_type": "code",
   "execution_count": 20,
   "metadata": {},
   "outputs": [],
   "source": [
    "l = [None,None,'pre','suc']"
   ]
  },
  {
   "cell_type": "code",
   "execution_count": 28,
   "metadata": {},
   "outputs": [],
   "source": [
    "p_result = list(itertools.permutations(l,len(l)))\n",
    "#p_result = itertools.permutations(l,len(l))"
   ]
  },
  {
   "cell_type": "code",
   "execution_count": 30,
   "metadata": {},
   "outputs": [
    {
     "data": {
      "text/plain": [
       "[(None, None, 'pre', 'suc'),\n",
       " (None, None, 'suc', 'pre'),\n",
       " (None, 'pre', None, 'suc'),\n",
       " (None, 'pre', 'suc', None),\n",
       " (None, 'suc', None, 'pre'),\n",
       " (None, 'suc', 'pre', None),\n",
       " (None, None, 'pre', 'suc'),\n",
       " (None, None, 'suc', 'pre'),\n",
       " (None, 'pre', None, 'suc'),\n",
       " (None, 'pre', 'suc', None),\n",
       " (None, 'suc', None, 'pre'),\n",
       " (None, 'suc', 'pre', None),\n",
       " ('pre', None, None, 'suc'),\n",
       " ('pre', None, 'suc', None),\n",
       " ('pre', None, None, 'suc'),\n",
       " ('pre', None, 'suc', None),\n",
       " ('pre', 'suc', None, None),\n",
       " ('pre', 'suc', None, None),\n",
       " ('suc', None, None, 'pre'),\n",
       " ('suc', None, 'pre', None),\n",
       " ('suc', None, None, 'pre'),\n",
       " ('suc', None, 'pre', None),\n",
       " ('suc', 'pre', None, None),\n",
       " ('suc', 'pre', None, None)]"
      ]
     },
     "execution_count": 30,
     "metadata": {},
     "output_type": "execute_result"
    }
   ],
   "source": [
    "p_result"
   ]
  },
  {
   "cell_type": "code",
   "execution_count": 23,
   "metadata": {},
   "outputs": [
    {
     "data": {
      "text/plain": [
       "24"
      ]
     },
     "execution_count": 23,
     "metadata": {},
     "output_type": "execute_result"
    }
   ],
   "source": [
    "len(p_result)"
   ]
  },
  {
   "cell_type": "code",
   "execution_count": 24,
   "metadata": {},
   "outputs": [],
   "source": [
    "p_result2 = list(set(p_result))"
   ]
  },
  {
   "cell_type": "code",
   "execution_count": 25,
   "metadata": {},
   "outputs": [
    {
     "name": "stdout",
     "output_type": "stream",
     "text": [
      "[('suc', 'pre', None, None), ('pre', 'suc', None, None), (None, 'suc', 'pre', None), (None, None, 'suc', 'pre'), ('pre', None, 'suc', None), (None, 'suc', None, 'pre'), (None, None, 'pre', 'suc'), ('suc', None, 'pre', None), (None, 'pre', 'suc', None), ('pre', None, None, 'suc'), (None, 'pre', None, 'suc'), ('suc', None, None, 'pre')]\n"
     ]
    }
   ],
   "source": [
    "print p_result2"
   ]
  },
  {
   "cell_type": "code",
   "execution_count": 19,
   "metadata": {},
   "outputs": [
    {
     "data": {
      "text/plain": [
       "210"
      ]
     },
     "execution_count": 19,
     "metadata": {},
     "output_type": "execute_result"
    }
   ],
   "source": [
    "len(p_result2)"
   ]
  },
  {
   "cell_type": "code",
   "execution_count": null,
   "metadata": {},
   "outputs": [],
   "source": []
  }
 ],
 "metadata": {
  "kernelspec": {
   "display_name": "Python 2",
   "language": "python",
   "name": "python2"
  },
  "language_info": {
   "codemirror_mode": {
    "name": "ipython",
    "version": 2
   },
   "file_extension": ".py",
   "mimetype": "text/x-python",
   "name": "python",
   "nbconvert_exporter": "python",
   "pygments_lexer": "ipython2",
   "version": "2.7.12"
  }
 },
 "nbformat": 4,
 "nbformat_minor": 2
}
