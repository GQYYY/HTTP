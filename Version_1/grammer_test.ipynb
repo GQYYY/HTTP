{
 "cells": [
  {
   "cell_type": "code",
   "execution_count": 2,
   "metadata": {},
   "outputs": [],
   "source": [
    "import Request"
   ]
  },
  {
   "cell_type": "code",
   "execution_count": 3,
   "metadata": {},
   "outputs": [],
   "source": [
    "r = Request.Request()"
   ]
  },
  {
   "cell_type": "code",
   "execution_count": 4,
   "metadata": {},
   "outputs": [
    {
     "data": {
      "text/plain": [
       "{'HTTP_Version': 'HTTP/1.1',\n",
       " 'Headers': [],\n",
       " 'Line_CRLF': '\\r\\n',\n",
       " 'Method': 'GET',\n",
       " 'Requset_URI': '/'}"
      ]
     },
     "execution_count": 4,
     "metadata": {},
     "output_type": "execute_result"
    }
   ],
   "source": [
    "r.__dict__"
   ]
  },
  {
   "cell_type": "code",
   "execution_count": 9,
   "metadata": {},
   "outputs": [],
   "source": [
    "#r.set_Header('Host','xxx123.tk',header_style='space_succeeded')\n",
    "r.clear_headers()\n",
    "r.set_Header('Host','xxx123.tk','space_preceded')"
   ]
  },
  {
   "cell_type": "code",
   "execution_count": 10,
   "metadata": {},
   "outputs": [
    {
     "name": "stdout",
     "output_type": "stream",
     "text": [
      "GET / HTTP/1.1\r\n",
      " Host:xxx123.tk\r\n",
      "\r\n",
      "\n"
     ]
    }
   ],
   "source": [
    "print r.request()"
   ]
  },
  {
   "cell_type": "code",
   "execution_count": 25,
   "metadata": {},
   "outputs": [
    {
     "data": {
      "text/plain": [
       "'GET / HTTP/1.1\\r\\nHost: xxx123.tk\\r\\n\\r\\n'"
      ]
     },
     "execution_count": 25,
     "metadata": {},
     "output_type": "execute_result"
    }
   ],
   "source": [
    "r.request()"
   ]
  },
  {
   "cell_type": "code",
   "execution_count": 26,
   "metadata": {},
   "outputs": [],
   "source": [
    "import socket\n",
    "\n",
    "target_host = 'xxx123.tk'\n",
    "target_port = 80\n",
    "\n",
    "#建立一个socket对象\n",
    "client = socket.socket(socket.AF_INET,socket.SOCK_STREAM)\n",
    "#客户端链接服务器端\n",
    "client.connect((target_host,target_port))"
   ]
  },
  {
   "cell_type": "code",
   "execution_count": 27,
   "metadata": {},
   "outputs": [
    {
     "name": "stdout",
     "output_type": "stream",
     "text": [
      "HTTP/1.1 200 OK\r\n",
      "Server: nginx/1.13.6\r\n",
      "Date: Sun, 26 Nov 2017 14:22:05 GMT\r\n",
      "Content-Type: text/html\r\n",
      "Content-Length: 326\r\n",
      "Connection: keep-alive\r\n",
      "Last-Modified: Mon, 13 Nov 2017 15:30:37 GMT\r\n",
      "ETag: \"5a09ba9d-146\"\r\n",
      "X-Via: 127.0.0.1\r\n",
      "X-Cache: EXPIRED\r\n",
      "Accept-Ranges: bytes\r\n",
      "\r\n",
      "<!DOCTYPE html>\n",
      "<html>\n",
      "<head>\n",
      "<title>Welcome to xxx123.tk!</title>\n",
      "<style>\n",
      "    body {\n",
      "        width: 35em;\n",
      "        margin: 0 auto;\n",
      "        font-family: Tahoma, Verdana, Arial, sans-serif;\n",
      "    }\n",
      "</style>\n",
      "</head>\n",
      "<body>\n",
      "<h1>This is the homepage of xxx123.tk!</h1>\n",
      "\n",
      "<p><em>Thank you for using xxx123.tk.</em></p>\n",
      "</body>\n",
      "</html>\n",
      "\n"
     ]
    }
   ],
   "source": [
    "#发送数据\n",
    "client.send(r.request())\n",
    "#接收服务器返回的resonse\n",
    "response = client.recv(4096)\n",
    "print response"
   ]
  },
  {
   "cell_type": "code",
   "execution_count": null,
   "metadata": {},
   "outputs": [],
   "source": []
  }
 ],
 "metadata": {
  "kernelspec": {
   "display_name": "Python 2",
   "language": "python",
   "name": "python2"
  },
  "language_info": {
   "codemirror_mode": {
    "name": "ipython",
    "version": 2
   },
   "file_extension": ".py",
   "mimetype": "text/x-python",
   "name": "python",
   "nbconvert_exporter": "python",
   "pygments_lexer": "ipython2",
   "version": "2.7.12"
  }
 },
 "nbformat": 4,
 "nbformat_minor": 2
}
