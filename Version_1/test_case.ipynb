{
 "cells": [
  {
   "cell_type": "code",
   "execution_count": 3,
   "metadata": {
    "scrolled": true
   },
   "outputs": [
    {
     "name": "stdout",
     "output_type": "stream",
     "text": [
      "The autoreload extension is already loaded. To reload it, use:\n",
      "  %reload_ext autoreload\n"
     ]
    }
   ],
   "source": [
    "%load_ext autoreload\n",
    "\n",
    "import Request\n",
    "import Rule\n",
    "import itertools"
   ]
  },
  {
   "cell_type": "code",
   "execution_count": 4,
   "metadata": {},
   "outputs": [],
   "source": [
    "req = Request.Request()\n",
    "rule = Rule.Rule('rule.conf')"
   ]
  },
  {
   "cell_type": "code",
   "execution_count": 5,
   "metadata": {},
   "outputs": [
    {
     "data": {
      "text/plain": [
       "{'Connection': ['Keep-Alive'], 'Host': ['xxx123.tk', 'xxx456.tk']}"
      ]
     },
     "execution_count": 5,
     "metadata": {},
     "output_type": "execute_result"
    }
   ],
   "source": [
    "host_values = ['xxx123.tk','xxx456.tk']\n",
    "connection_values = ['Keep-Alive']\n",
    "\n",
    "values = {}\n",
    "values['Host'] = host_values\n",
    "values['Connection'] = connection_values\n",
    "values"
   ]
  },
  {
   "cell_type": "code",
   "execution_count": 6,
   "metadata": {},
   "outputs": [],
   "source": [
    "def yield_values_permutation(values):\n",
    "    value_dict = {}\n",
    "    for header_key in values.keys():\n",
    "        header_value = values.get(header_key)\n",
    "        header_value_permutation = list(set(list(itertools.permutations(header_value,len(header_value)))))\n",
    "        value_dict[header_key] = header_value_permutation\n",
    "    \n",
    "    return value_dict"
   ]
  },
  {
   "cell_type": "code",
   "execution_count": 7,
   "metadata": {},
   "outputs": [
    {
     "data": {
      "text/plain": [
       "{'Connection': [('Keep-Alive',)],\n",
       " 'Host': [('xxx456.tk', 'xxx123.tk'), ('xxx123.tk', 'xxx456.tk')]}"
      ]
     },
     "execution_count": 7,
     "metadata": {},
     "output_type": "execute_result"
    }
   ],
   "source": [
    "header_value_dict = yield_values_permutation(values)\n",
    "header_value_dict"
   ]
  },
  {
   "cell_type": "code",
   "execution_count": 8,
   "metadata": {},
   "outputs": [],
   "source": [
    "def yield_header_value_and_style(rule,header_value_dict):\n",
    "    headers  = {}\n",
    "    rules = rule.get_rule()\n",
    "    for header_key in rules.keys():\n",
    "        headers[header_key] = []\n",
    "        for header_style in rules.get(header_key):\n",
    "            for header_value in header_value_dict.get(header_key):\n",
    "                headers[header_key].append((header_value,header_style))\n",
    "    \n",
    "    return headers"
   ]
  },
  {
   "cell_type": "code",
   "execution_count": 9,
   "metadata": {},
   "outputs": [
    {
     "data": {
      "text/plain": [
       "{u'Connection': [(('Keep-Alive',), (None,))],\n",
       " u'Host': [(('xxx456.tk', 'xxx123.tk'),\n",
       "   (u'space_succeeded', u'space_preceded')),\n",
       "  (('xxx123.tk', 'xxx456.tk'), (u'space_succeeded', u'space_preceded')),\n",
       "  (('xxx456.tk', 'xxx123.tk'), (u'space_preceded', u'space_succeeded')),\n",
       "  (('xxx123.tk', 'xxx456.tk'), (u'space_preceded', u'space_succeeded'))]}"
      ]
     },
     "execution_count": 9,
     "metadata": {},
     "output_type": "execute_result"
    }
   ],
   "source": [
    "header_info = yield_header_value_and_style(rule,header_value_dict)\n",
    "header_info"
   ]
  },
  {
   "cell_type": "code",
   "execution_count": 12,
   "metadata": {},
   "outputs": [],
   "source": [
    "def yield_requests(request,header_info):\n",
    "    requests = []\n",
    "    header_lst = header_info.keys()        #由header名构成的列表\n",
    "    header_info_lst = header_info.values() #由字典header_info中各header对应的值的列表\n",
    "    \n",
    "    \n",
    "    for headers in itertools.product(*header_info_lst):  #heasers 不同Header字段的组合\n",
    "        for i,multi_header in enumerate(headers):        #multi_header  多个同名的Header的值和style\n",
    "            #multi_header[0]:多个同名的Header的值\n",
    "            #multi_header[1]:多个同名的Header的style\n",
    "            for j in range(len(multi_header[0])):\n",
    "                request.set_Header(header_lst[i],multi_header[0][j],multi_header[1][j])\n",
    "        \n",
    "        requests.append(request.request())\n",
    "        request.clear_headers()\n",
    "             \n",
    "    return requests"
   ]
  },
  {
   "cell_type": "code",
   "execution_count": 13,
   "metadata": {},
   "outputs": [],
   "source": [
    "requests = yield_requests(req,header_info)"
   ]
  },
  {
   "cell_type": "code",
   "execution_count": 14,
   "metadata": {},
   "outputs": [
    {
     "name": "stdout",
     "output_type": "stream",
     "text": [
      "GET / HTTP/1.1\r\n",
      "Host: xxx456.tk\r\n",
      " Host:xxx123.tk\r\n",
      "Connection:Keep-Alive\r\n",
      "\r\n",
      "\n",
      "\n",
      "\n",
      "GET / HTTP/1.1\r\n",
      "Host: xxx123.tk\r\n",
      " Host:xxx456.tk\r\n",
      "Connection:Keep-Alive\r\n",
      "\r\n",
      "\n",
      "\n",
      "\n",
      "GET / HTTP/1.1\r\n",
      " Host:xxx456.tk\r\n",
      "Host: xxx123.tk\r\n",
      "Connection:Keep-Alive\r\n",
      "\r\n",
      "\n",
      "\n",
      "\n",
      "GET / HTTP/1.1\r\n",
      " Host:xxx123.tk\r\n",
      "Host: xxx456.tk\r\n",
      "Connection:Keep-Alive\r\n",
      "\r\n",
      "\n",
      "\n",
      "\n"
     ]
    }
   ],
   "source": [
    "for request in requests:\n",
    "    print request\n",
    "    print '\\n'"
   ]
  },
  {
   "cell_type": "code",
   "execution_count": null,
   "metadata": {},
   "outputs": [],
   "source": []
  }
 ],
 "metadata": {
  "kernelspec": {
   "display_name": "Python 2",
   "language": "python",
   "name": "python2"
  },
  "language_info": {
   "codemirror_mode": {
    "name": "ipython",
    "version": 3
   },
   "file_extension": ".py",
   "mimetype": "text/x-python",
   "name": "python",
   "nbconvert_exporter": "python",
   "pygments_lexer": "ipython3",
   "version": "3.5.2"
  }
 },
 "nbformat": 4,
 "nbformat_minor": 2
}
