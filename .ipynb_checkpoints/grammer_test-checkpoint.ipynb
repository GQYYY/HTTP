{
 "cells": [
  {
   "cell_type": "code",
   "execution_count": 120,
   "metadata": {},
   "outputs": [],
   "source": [
    "from request import *"
   ]
  },
  {
   "cell_type": "code",
   "execution_count": 121,
   "metadata": {},
   "outputs": [],
   "source": [
    "r = request.Request()"
   ]
  },
  {
   "cell_type": "code",
   "execution_count": 131,
   "metadata": {},
   "outputs": [
    {
     "data": {
      "text/plain": [
       "{'HTTP_Version': 'HTTP/1.1',\n",
       " 'Headers': [('Host', 'xxx123.tk')],\n",
       " 'Line_CRLF': '\\r\\n',\n",
       " 'Method': 'GET',\n",
       " 'Requset_URI': '/'}"
      ]
     },
     "execution_count": 131,
     "metadata": {},
     "output_type": "execute_result"
    }
   ],
   "source": [
    "r.__dict__"
   ]
  },
  {
   "cell_type": "code",
   "execution_count": 123,
   "metadata": {},
   "outputs": [
    {
     "data": {
      "text/plain": [
       "'GET'"
      ]
     },
     "execution_count": 123,
     "metadata": {},
     "output_type": "execute_result"
    }
   ],
   "source": [
    "r.Method"
   ]
  },
  {
   "cell_type": "code",
   "execution_count": 124,
   "metadata": {},
   "outputs": [
    {
     "data": {
      "text/plain": [
       "'/'"
      ]
     },
     "execution_count": 124,
     "metadata": {},
     "output_type": "execute_result"
    }
   ],
   "source": [
    "r.Requset_URI"
   ]
  },
  {
   "cell_type": "code",
   "execution_count": 125,
   "metadata": {},
   "outputs": [
    {
     "data": {
      "text/plain": [
       "'HTTP/1.1'"
      ]
     },
     "execution_count": 125,
     "metadata": {},
     "output_type": "execute_result"
    }
   ],
   "source": [
    "r.HTTP_Version"
   ]
  },
  {
   "cell_type": "code",
   "execution_count": 126,
   "metadata": {},
   "outputs": [
    {
     "data": {
      "text/plain": [
       "'\\r\\n'"
      ]
     },
     "execution_count": 126,
     "metadata": {},
     "output_type": "execute_result"
    }
   ],
   "source": [
    "r.Line_CRLF"
   ]
  },
  {
   "cell_type": "code",
   "execution_count": 129,
   "metadata": {},
   "outputs": [],
   "source": [
    "r.set_Header('Host','xxx123.tk')"
   ]
  },
  {
   "cell_type": "code",
   "execution_count": 127,
   "metadata": {},
   "outputs": [
    {
     "data": {
      "text/plain": [
       "'GET / HTTP/1.1 \\r\\n'"
      ]
     },
     "execution_count": 127,
     "metadata": {},
     "output_type": "execute_result"
    }
   ],
   "source": [
    "' '.join([r.Method,r.Requset_URI,r.HTTP_Version,r.Line_CRLF])"
   ]
  },
  {
   "cell_type": "code",
   "execution_count": 130,
   "metadata": {
    "scrolled": false
   },
   "outputs": [
    {
     "ename": "TypeError",
     "evalue": "join() takes exactly one argument (4 given)",
     "output_type": "error",
     "traceback": [
      "\u001b[0;31m---------------------------------------------------------------------------\u001b[0m",
      "\u001b[0;31mTypeError\u001b[0m                                 Traceback (most recent call last)",
      "\u001b[0;32m<ipython-input-130-c4049af6c272>\u001b[0m in \u001b[0;36m<module>\u001b[0;34m()\u001b[0m\n\u001b[0;32m----> 1\u001b[0;31m \u001b[0mr\u001b[0m\u001b[0;34m.\u001b[0m\u001b[0mrequest\u001b[0m\u001b[0;34m(\u001b[0m\u001b[0;34m)\u001b[0m\u001b[0;34m\u001b[0m\u001b[0m\n\u001b[0m",
      "\u001b[0;32m/home/gqy/Desktop/Http_Gengerator/request.py\u001b[0m in \u001b[0;36mrequest\u001b[0;34m(self)\u001b[0m\n\u001b[1;32m     29\u001b[0m     \u001b[0;34m'''返回该Request的字符串表示'''\u001b[0m\u001b[0;34m\u001b[0m\u001b[0m\n\u001b[1;32m     30\u001b[0m     \u001b[0;32mdef\u001b[0m \u001b[0mrequest\u001b[0m\u001b[0;34m(\u001b[0m\u001b[0mself\u001b[0m\u001b[0;34m)\u001b[0m\u001b[0;34m:\u001b[0m\u001b[0;34m\u001b[0m\u001b[0m\n\u001b[0;32m---> 31\u001b[0;31m         \u001b[0mRequest_Line\u001b[0m \u001b[0;34m=\u001b[0m \u001b[0mself\u001b[0m\u001b[0;34m.\u001b[0m\u001b[0mMethod\u001b[0m \u001b[0;34m+\u001b[0m\u001b[0;34m' '\u001b[0m\u001b[0;34m+\u001b[0m \u001b[0mself\u001b[0m\u001b[0;34m.\u001b[0m\u001b[0mRequset_URI\u001b[0m \u001b[0;34m+\u001b[0m\u001b[0;34m' '\u001b[0m\u001b[0;34m+\u001b[0m \u001b[0mself\u001b[0m\u001b[0;34m.\u001b[0m\u001b[0mHTTP_Version\u001b[0m \u001b[0;34m+\u001b[0m \u001b[0mself\u001b[0m\u001b[0;34m.\u001b[0m\u001b[0mLine_CRLF\u001b[0m\u001b[0;34m\u001b[0m\u001b[0m\n\u001b[0m\u001b[1;32m     32\u001b[0m         \u001b[0mEnd_Line\u001b[0m \u001b[0;34m=\u001b[0m \u001b[0mself\u001b[0m\u001b[0;34m.\u001b[0m\u001b[0mLine_CRLF\u001b[0m\u001b[0;34m\u001b[0m\u001b[0m\n\u001b[1;32m     33\u001b[0m         \u001b[0mHeader_Lines\u001b[0m \u001b[0;34m=\u001b[0m \u001b[0;34m''\u001b[0m\u001b[0;34m\u001b[0m\u001b[0m\n",
      "\u001b[0;31mTypeError\u001b[0m: join() takes exactly one argument (4 given)"
     ]
    }
   ],
   "source": [
    "r.request()"
   ]
  },
  {
   "cell_type": "code",
   "execution_count": 119,
   "metadata": {},
   "outputs": [
    {
     "data": {
      "text/plain": [
       "'GET / HTTP/1.1\\r\\n'"
      ]
     },
     "execution_count": 119,
     "metadata": {},
     "output_type": "execute_result"
    }
   ],
   "source": [
    "Request_Line = r.Method +' '+ r.Requset_URI +' '+ r.HTTP_Version + r.Line_CRLF\n",
    "Request_Line"
   ]
  },
  {
   "cell_type": "code",
   "execution_count": 118,
   "metadata": {},
   "outputs": [],
   "source": [
    "# %load request.py\n",
    "#!/usr/bin/env python\n",
    "\n",
    "class Request:\n",
    "    def __init__(self,Method='GET',Request_URI='/',HTTP_Version='HTTP/1.1'):\n",
    "        self.Line_CRLF = '\\r\\n'\n",
    "        self.Headers = []\n",
    "        self.Method = Method\n",
    "        self.Requset_URI = Request_URI\n",
    "        self.HTTP_Version = HTTP_Version\n",
    "\n",
    "    '''\n",
    "    向request中添加Header信息，以元组表示(header_name,header_value),参数如下:\n",
    "    header_name: Header名，连同后面的冒号(:),如 'Host:'等\n",
    "    header_value:该Header对应的值\n",
    "    header_style:该Header在此Header_Line中的style，其值可以是['None'(默认),'space_preceded','space_succeeded'],以Host字段为例:\n",
    "        'None' --> 'Host:value'\n",
    "        'space_preceded' --> ' Host:value'\n",
    "        'space_succeeded' --> 'Host: value'\n",
    "    '''\n",
    "    def set_Header(self,header_name,header_value,header_style=None):\n",
    "        if header_style == 'space_preceded':\n",
    "            header_name = ' ' + header_name + ':'\n",
    "        elif header_style == 'space_succeeded':\n",
    "            header_name = header_name + ':' + ' '\n",
    "        self.Headers.append((header_name,header_value))\n",
    "    \n",
    "    \n",
    "    '''返回该Request的字符串表示'''\n",
    "    def request(self):\n",
    "        Request_Line = self.Method +' '+ self.Requset_URI +' '+ self.HTTP_Version + self.Line_CRLF\n",
    "        End_Line = self.Line_CRLF\n",
    "        Header_Lines = ''\n",
    "\n",
    "        for header in self.Headers:\n",
    "            Header_Line = header[0]+header[1]+self.Line_CRLF\n",
    "            Header_Lines += Header_Line\n",
    "\n",
    "        return ''.join([Request_Line,Header_Lines,End_Line])\n",
    "\n",
    "\n",
    "\n"
   ]
  },
  {
   "cell_type": "code",
   "execution_count": null,
   "metadata": {},
   "outputs": [],
   "source": []
  }
 ],
 "metadata": {
  "kernelspec": {
   "display_name": "Python 2",
   "language": "python",
   "name": "python2"
  },
  "language_info": {
   "codemirror_mode": {
    "name": "ipython",
    "version": 2
   },
   "file_extension": ".py",
   "mimetype": "text/x-python",
   "name": "python",
   "nbconvert_exporter": "python",
   "pygments_lexer": "ipython2",
   "version": "2.7.12"
  }
 },
 "nbformat": 4,
 "nbformat_minor": 2
}
