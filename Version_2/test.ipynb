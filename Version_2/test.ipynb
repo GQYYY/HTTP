{
 "cells": [
  {
   "cell_type": "code",
   "execution_count": 59,
   "metadata": {},
   "outputs": [],
   "source": [
    "import socket\n",
    "import time\n",
    "\n",
    "target_host = '192.168.8.162'\n",
    "target_port = 80\n",
    "\n",
    "#建立一个socket对象\n",
    "client = socket.socket(socket.AF_INET,socket.SOCK_STREAM)\n",
    "#客户端链接服务器端\n",
    "client.connect((target_host,target_port))\n",
    "\n",
    "request_benigh = b'GET / HTTP/1.1\\r\\nHost:www.benigh.com\\r\\n\\r\\n'\n",
    "request_attack = b'GET / HTTP/1.1\\r\\nHost:www.attack.com\\r\\n\\r\\n'\n",
    "request_400 = b'GET / HTTP/1.1\\r\\n Host:www.benigh.com\\r\\n\\r\\n'"
   ]
  },
  {
   "cell_type": "code",
   "execution_count": 60,
   "metadata": {},
   "outputs": [
    {
     "name": "stdout",
     "output_type": "stream",
     "text": [
      "b'HTTP/1.1 200 OK\\r\\nServer: nginx/1.13.6\\r\\nDate: Tue, 12 Dec 2017 09:44:10 GMT\\r\\nContent-Type: text/html\\r\\nContent-Length: 315\\r\\nConnection: keep-alive\\r\\nLast-Modified: Tue, 05 Dec 2017 06:33:03 GMT\\r\\nETag: \"5a263d9f-13b\"\\r\\nX-Via: 192.168.8.162\\r\\nX-Cache: HIT\\r\\nAccept-Ranges: bytes\\r\\n\\r\\n<!DOCTYPE html>\\n<html>\\n<head>\\n<title>Benigh!</title>\\n<style>\\n    body {\\n        width: 35em;\\n        margin: 0 auto;\\n        font-family: Tahoma, Verdana, Arial, sans-serif;\\n    }\\n</style>\\n</head>\\n<body>\\n<h1>Welcome to www.benigh.com!</h1>\\n\\n<p><em>Thank you for logining in www.benigh.com!</em></p>\\n</body>\\n</html>\\n'\n",
      "\n",
      "\n",
      "HTTP/1.1 200 OK\n",
      "<!DOCTYPE html>\n",
      "<html>\n",
      "<head>\n",
      "<title>Benigh!</title>\n",
      "<style>\n",
      "    body {\n",
      "        width: 35em;\n",
      "        margin: 0 auto;\n",
      "        font-family: Tahoma, Verdana, Arial, sans-serif;\n",
      "    }\n",
      "</style>\n",
      "</head>\n",
      "<body>\n",
      "<h1>Welcome to www.benigh.com!</h1>\n",
      "\n",
      "<p><em>Thank you for logining in www.benigh.com!</em></p>\n",
      "</body>\n",
      "</html>\n",
      "\n",
      "*******************************\n",
      "b'HTTP/1.1 200 OK\\r\\nServer: nginx/1.13.6\\r\\nDate: Tue, 12 Dec 2017 09:44:12 GMT\\r\\nContent-Type: text/html\\r\\nContent-Length: 324\\r\\nConnection: keep-alive\\r\\nLast-Modified: Tue, 05 Dec 2017 06:05:35 GMT\\r\\nETag: \"5a26372f-144\"\\r\\nX-Via: 192.168.8.162\\r\\nX-Cache: HIT\\r\\nAccept-Ranges: bytes\\r\\n\\r\\n<!DOCTYPE html>\\n<html>\\n<head>\\n<title>Attack!</title>\\n<style>\\n    body {\\n        width: 35em;\\n        margin: 0 auto;\\n        font-family: Tahoma, Verdana, Arial, sans-serif;\\n    }\\n</style>\\n</head>\\n<body>\\n<h1>This is www.attack.com!</h1>\\n<h1>You have been hacked!</h1>\\n\\n\\n<p><em>You have been hacked!</em></p>\\n</body>\\n</html>\\n'\n",
      "\n",
      "\n",
      "HTTP/1.1 200 OK\n",
      "<!DOCTYPE html>\n",
      "<html>\n",
      "<head>\n",
      "<title>Attack!</title>\n",
      "<style>\n",
      "    body {\n",
      "        width: 35em;\n",
      "        margin: 0 auto;\n",
      "        font-family: Tahoma, Verdana, Arial, sans-serif;\n",
      "    }\n",
      "</style>\n",
      "</head>\n",
      "<body>\n",
      "<h1>This is www.attack.com!</h1>\n",
      "<h1>You have been hacked!</h1>\n",
      "\n",
      "\n",
      "<p><em>You have been hacked!</em></p>\n",
      "</body>\n",
      "</html>\n",
      "\n",
      "*******************************\n",
      "b'HTTP/1.1 400 Bad Request\\r\\nServer: nginx/1.13.6\\r\\nDate: Tue, 12 Dec 2017 09:44:14 GMT\\r\\nContent-Type: text/html\\r\\nContent-Length: 173\\r\\nConnection: close\\r\\n\\r\\n<html>\\r\\n<head><title>400 Bad Request</title></head>\\r\\n<body bgcolor=\"white\">\\r\\n<center><h1>400 Bad Request</h1></center>\\r\\n<hr><center>nginx/1.13.6</center>\\r\\n</body>\\r\\n</html>\\r\\n'\n",
      "\n",
      "\n",
      "HTTP/1.1 400 Bad Request\n",
      "<html>\n",
      "<head><title>400 Bad Request</title></head>\n",
      "<body bgcolor=\"white\">\n",
      "<center><h1>400 Bad Request</h1></center>\n",
      "<hr><center>nginx/1.13.6</center>\n",
      "</body>\n",
      "</html>\n",
      "\n",
      "*******************************\n"
     ]
    }
   ],
   "source": [
    "for request in [request_benigh,request_attack,request_400]:\n",
    "    #发送数据\n",
    "    client.send(request)\n",
    "    #接收服务器返回的resonse\n",
    "    #返回bypes类型\n",
    "    response = client.recv(4096)\n",
    "    print (response)\n",
    "    response = bytes.decode(response)\n",
    "    \n",
    "    print ('\\n')\n",
    "    headers,message_body = response.split('\\r\\n\\r\\n')\n",
    "    status_code = headers.split('\\r\\n')[0]\n",
    "    print (status_code)\n",
    "    print (message_body)\n",
    "    print ('*******************************')\n",
    "    time.sleep(2)"
   ]
  },
  {
   "cell_type": "code",
   "execution_count": null,
   "metadata": {},
   "outputs": [],
   "source": []
  },
  {
   "cell_type": "code",
   "execution_count": null,
   "metadata": {},
   "outputs": [],
   "source": []
  }
 ],
 "metadata": {
  "kernelspec": {
   "display_name": "Python 3",
   "language": "python",
   "name": "python3"
  },
  "language_info": {
   "codemirror_mode": {
    "name": "ipython",
    "version": 3
   },
   "file_extension": ".py",
   "mimetype": "text/x-python",
   "name": "python",
   "nbconvert_exporter": "python",
   "pygments_lexer": "ipython3",
   "version": "3.5.2"
  }
 },
 "nbformat": 4,
 "nbformat_minor": 2
}
