{
 "cells": [
  {
   "cell_type": "code",
   "execution_count": 1,
   "metadata": {},
   "outputs": [],
   "source": [
    "import socket\n",
    "import time\n",
    "\n",
    "target_host = '192.168.8.162'\n",
    "target_port = 80\n",
    "\n",
    "\n",
    "request_benigh = b'GET / HTTP/1.1\\r\\nHost:www.benigh.com\\r\\n\\r\\n'\n",
    "request_attack = b'GET / HTTP/1.1\\r\\nHost:www.attack.com\\r\\n\\r\\n'\n",
    "request_400 = b'GET / HTTP/1.1\\r\\n Host:www.benigh.com\\r\\n\\r\\n'"
   ]
  },
  {
   "cell_type": "code",
   "execution_count": 2,
   "metadata": {},
   "outputs": [
    {
     "name": "stdout",
     "output_type": "stream",
     "text": [
      "b'HTTP/1.1 400 Bad Request\\r\\nServer: nginx/1.13.6\\r\\nDate: Tue, 12 Dec 2017 13:26:41 GMT\\r\\nContent-Type: text/html\\r\\nContent-Length: 173\\r\\nConnection: close\\r\\n\\r\\n<html>\\r\\n<head><title>400 Bad Request</title></head>\\r\\n<body bgcolor=\"white\">\\r\\n<center><h1>400 Bad Request</h1></center>\\r\\n<hr><center>nginx/1.13.6</center>\\r\\n</body>\\r\\n</html>\\r\\n'\n",
      "\n",
      "\n",
      "HTTP/1.1 400 Bad Request\n",
      "<html>\n",
      "<head><title>400 Bad Request</title></head>\n",
      "<body bgcolor=\"white\">\n",
      "<center><h1>400 Bad Request</h1></center>\n",
      "<hr><center>nginx/1.13.6</center>\n",
      "</body>\n",
      "</html>\n",
      "\n",
      "*******************************\n",
      "b'HTTP/1.1 400 Bad Request\\r\\nServer: nginx/1.13.6\\r\\nDate: Tue, 12 Dec 2017 13:26:43 GMT\\r\\nContent-Type: text/html\\r\\nContent-Length: 173\\r\\nConnection: close\\r\\n\\r\\n<html>\\r\\n<head><title>400 Bad Request</title></head>\\r\\n<body bgcolor=\"white\">\\r\\n<center><h1>400 Bad Request</h1></center>\\r\\n<hr><center>nginx/1.13.6</center>\\r\\n</body>\\r\\n</html>\\r\\n'\n",
      "\n",
      "\n",
      "HTTP/1.1 400 Bad Request\n",
      "<html>\n",
      "<head><title>400 Bad Request</title></head>\n",
      "<body bgcolor=\"white\">\n",
      "<center><h1>400 Bad Request</h1></center>\n",
      "<hr><center>nginx/1.13.6</center>\n",
      "</body>\n",
      "</html>\n",
      "\n",
      "*******************************\n",
      "b'HTTP/1.1 400 Bad Request\\r\\nServer: nginx/1.13.6\\r\\nDate: Tue, 12 Dec 2017 13:26:45 GMT\\r\\nContent-Type: text/html\\r\\nContent-Length: 173\\r\\nConnection: close\\r\\n\\r\\n<html>\\r\\n<head><title>400 Bad Request</title></head>\\r\\n<body bgcolor=\"white\">\\r\\n<center><h1>400 Bad Request</h1></center>\\r\\n<hr><center>nginx/1.13.6</center>\\r\\n</body>\\r\\n</html>\\r\\n'\n",
      "\n",
      "\n",
      "HTTP/1.1 400 Bad Request\n",
      "<html>\n",
      "<head><title>400 Bad Request</title></head>\n",
      "<body bgcolor=\"white\">\n",
      "<center><h1>400 Bad Request</h1></center>\n",
      "<hr><center>nginx/1.13.6</center>\n",
      "</body>\n",
      "</html>\n",
      "\n",
      "*******************************\n"
     ]
    }
   ],
   "source": [
    "for request in [request_400,request_400,request_400,]:\n",
    "    \n",
    "    #建立一个socket对象\n",
    "    client = socket.socket(socket.AF_INET,socket.SOCK_STREAM)\n",
    "    #客户端链接服务器端\n",
    "    client.connect((target_host,target_port))\n",
    "    #发送数据\n",
    "    client.sendall(request)\n",
    "    #接收服务器返回的resonse\n",
    "    #返回bypes类型\n",
    "    response = client.recv(4096)\n",
    "    print (response)\n",
    "    response = bytes.decode(response)\n",
    "    \n",
    "    print ('\\n')\n",
    "    headers,message_body = response.split('\\r\\n\\r\\n')\n",
    "    status_code = headers.split('\\r\\n')[0]\n",
    "    print (status_code)\n",
    "    print (message_body)\n",
    "    print ('*******************************')\n",
    "    client.close()\n",
    "    time.sleep(2)"
   ]
  },
  {
   "cell_type": "code",
   "execution_count": 3,
   "metadata": {},
   "outputs": [
    {
     "name": "stdout",
     "output_type": "stream",
     "text": [
      "b''\n",
      "\n"
     ]
    }
   ],
   "source": [
    "request_400 = b'GET / HTTP/1.1\\r\\n Host:www.attack.com\\r\\n Host:www.benigh.com\\r\\n\\r\\n'\n",
    "#发送数据\n",
    "client.send(request_400)\n",
    "#接收服务器返回的resonse\n",
    "#返回bypes类型\n",
    "response = client.recv(4096)\n",
    "print (response)\n",
    "response = bytes.decode(response)\n",
    "print (response)"
   ]
  },
  {
   "cell_type": "code",
   "execution_count": 4,
   "metadata": {},
   "outputs": [
    {
     "ename": "BrokenPipeError",
     "evalue": "[Errno 32] Broken pipe",
     "output_type": "error",
     "traceback": [
      "\u001b[0;31m---------------------------------------------------------------------------\u001b[0m",
      "\u001b[0;31mBrokenPipeError\u001b[0m                           Traceback (most recent call last)",
      "\u001b[0;32m<ipython-input-4-04ca39788e11>\u001b[0m in \u001b[0;36m<module>\u001b[0;34m()\u001b[0m\n\u001b[1;32m      1\u001b[0m \u001b[0;31m#发送数据\u001b[0m\u001b[0;34m\u001b[0m\u001b[0;34m\u001b[0m\u001b[0m\n\u001b[0;32m----> 2\u001b[0;31m \u001b[0mclient\u001b[0m\u001b[0;34m.\u001b[0m\u001b[0msend\u001b[0m\u001b[0;34m(\u001b[0m\u001b[0mrequest_400\u001b[0m\u001b[0;34m)\u001b[0m\u001b[0;34m\u001b[0m\u001b[0m\n\u001b[0m\u001b[1;32m      3\u001b[0m \u001b[0;31m#接收服务器返回的resonse\u001b[0m\u001b[0;34m\u001b[0m\u001b[0;34m\u001b[0m\u001b[0m\n\u001b[1;32m      4\u001b[0m \u001b[0;31m#返回bypes类型\u001b[0m\u001b[0;34m\u001b[0m\u001b[0;34m\u001b[0m\u001b[0m\n\u001b[1;32m      5\u001b[0m \u001b[0mresponse\u001b[0m \u001b[0;34m=\u001b[0m \u001b[0mclient\u001b[0m\u001b[0;34m.\u001b[0m\u001b[0mrecv\u001b[0m\u001b[0;34m(\u001b[0m\u001b[0;36m4096\u001b[0m\u001b[0;34m)\u001b[0m\u001b[0;34m\u001b[0m\u001b[0m\n",
      "\u001b[0;31mBrokenPipeError\u001b[0m: [Errno 32] Broken pipe"
     ]
    }
   ],
   "source": [
    "#发送数据\n",
    "client.send(request_400)\n",
    "#接收服务器返回的resonse\n",
    "#返回bypes类型\n",
    "response = client.recv(4096)\n",
    "print (response)\n",
    "response = bytes.decode(response)\n",
    "print (response)"
   ]
  },
  {
   "cell_type": "code",
   "execution_count": 18,
   "metadata": {},
   "outputs": [
    {
     "name": "stdout",
     "output_type": "stream",
     "text": [
      "['a', 'b']\n",
      "[[1, 2, 3], [4, 5, 6]]\n"
     ]
    }
   ],
   "source": [
    "d = {'a':[1,2,3],'b':[4,5,6]}\n",
    "key =list(d.keys())\n",
    "print (key)\n",
    "value = list(d.values())\n",
    "print (value)"
   ]
  },
  {
   "cell_type": "code",
   "execution_count": null,
   "metadata": {},
   "outputs": [],
   "source": [
    "#发送数据\n",
    "client.send(request_400)\n",
    "#接收服务器返回的resonse\n",
    "#返回bypes类型\n",
    "response = client.recv(4096)\n",
    "print (response)\n",
    "response = bytes.decode(response)\n",
    "print (response)"
   ]
  }
 ],
 "metadata": {
  "kernelspec": {
   "display_name": "Python 3",
   "language": "python",
   "name": "python3"
  },
  "language_info": {
   "codemirror_mode": {
    "name": "ipython",
    "version": 3
   },
   "file_extension": ".py",
   "mimetype": "text/x-python",
   "name": "python",
   "nbconvert_exporter": "python",
   "pygments_lexer": "ipython3",
   "version": "3.5.2"
  }
 },
 "nbformat": 4,
 "nbformat_minor": 2
}
