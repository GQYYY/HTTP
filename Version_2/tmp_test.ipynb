{
 "cells": [
  {
   "cell_type": "code",
   "execution_count": 1,
   "metadata": {},
   "outputs": [],
   "source": [
    "%load_ext autoreload\n",
    "%autoreload 2\n",
    "\n",
    "import http_request\n",
    "import utils"
   ]
  },
  {
   "cell_type": "code",
   "execution_count": 2,
   "metadata": {},
   "outputs": [],
   "source": [
    "filepath = '/home/gqy/Desktop/Http_Gengerator/Version_2/'"
   ]
  },
  {
   "cell_type": "code",
   "execution_count": 3,
   "metadata": {},
   "outputs": [
    {
     "data": {
      "text/plain": [
       "{'End_Line': ['\\r\\n'],\n",
       " 'Header_Line_CRLF': ['\\r\\n'],\n",
       " 'Request_Line': {'HTTP_Version': ['HTTP/1.1'],\n",
       "  'Line_CRLF': ['\\r\\n'],\n",
       "  'Method': ['GET'],\n",
       "  'Request_URI': ['http://www.benigh.com/', 'http://www.attack.com/'],\n",
       "  'Space': [' ']}}"
      ]
     },
     "execution_count": 3,
     "metadata": {},
     "output_type": "execute_result"
    }
   ],
   "source": [
    "grammar_filename = 'grammar.conf'\n",
    "grammar = utils.load(filepath+grammar_filename)\n",
    "grammar"
   ]
  },
  {
   "cell_type": "code",
   "execution_count": 4,
   "metadata": {},
   "outputs": [
    {
     "data": {
      "text/plain": [
       "{'Header_Copy': [{'name': 'Host',\n",
       "   'num': 2,\n",
       "   'value': ['www.benigh.com', 'www.attack.com']},\n",
       "  {'name': 'Connection', 'num': 1, 'value': ['keep-alive']}]}"
      ]
     },
     "execution_count": 4,
     "metadata": {},
     "output_type": "execute_result"
    }
   ],
   "source": [
    "rule_filename = 'rule.conf'\n",
    "rule = utils.load(filepath+rule_filename)\n",
    "rule"
   ]
  },
  {
   "cell_type": "code",
   "execution_count": 5,
   "metadata": {},
   "outputs": [
    {
     "name": "stdout",
     "output_type": "stream",
     "text": [
      "{'Header_Lines': [], 'Headers': {}, 'End_Line': [], 'Header_Line_CRLF': [], 'Request_Line': []}\n"
     ]
    }
   ],
   "source": [
    "request = http_request.Request()\n",
    "print (request.__dict__)"
   ]
  },
  {
   "cell_type": "code",
   "execution_count": 7,
   "metadata": {},
   "outputs": [],
   "source": [
    "def conf_parse(conf_file,request):\n",
    "    '''\n",
    "    解析带有配置选项的文件conf_file,并给request的各属性赋值,如:\n",
    "    * request.Headers\n",
    "    * request.Request_Line\n",
    "    * request.Line_CRLF\n",
    "    * request.End_Line\n",
    "    '''\n",
    "    \n",
    "    conf_dict = utils.load(conf_file)\n",
    "    '''\n",
    "    conf_dict中每个key对应的value的type有三种取值情况:\n",
    "    * value是字符串列表，如 \"Header_Line_CRLF\": [\"\\r\\n\"]\n",
    "    * value是dict\n",
    "    * value是dict的列表\n",
    "    '''\n",
    "    for key,values in conf_dict.items():\n",
    "        func = getattr(request,key.lower())\n",
    "        \n",
    "        #key对应的值是dict\n",
    "        if isinstance(values,dict):\n",
    "            func(**values)\n",
    "        #key对应的值是列表\n",
    "        elif isinstance(values,list):\n",
    "            for value in values:\n",
    "                #列表中的元素是dict\n",
    "                if isinstance(value,dict):\n",
    "                    func(**value)\n",
    "                #列表中的元素不是dict，可能是数字、str或list\n",
    "                else:\n",
    "                    #注意:这里不是程序解包，是位置参数\n",
    "                    func(values)\n",
    "                    break    "
   ]
  },
  {
   "cell_type": "code",
   "execution_count": 8,
   "metadata": {},
   "outputs": [
    {
     "name": "stdout",
     "output_type": "stream",
     "text": [
      "{'Header_Lines': [], 'Headers': {}, 'End_Line': ['\\r\\n'], 'Header_Line_CRLF': ['\\r\\n'], 'Request_Line': ['GET http://www.benigh.com/ HTTP/1.1\\r\\n', 'GET http://www.attack.com/ HTTP/1.1\\r\\n']}\n"
     ]
    }
   ],
   "source": [
    "conf_parse(grammar_filename,request)\n",
    "print (request.__dict__)"
   ]
  },
  {
   "cell_type": "code",
   "execution_count": 9,
   "metadata": {},
   "outputs": [
    {
     "name": "stdout",
     "output_type": "stream",
     "text": [
      "{'Header_Lines': [], 'Headers': {'Connection': [(('keep-alive',), (0, 0))], 'Host': [(('www.benigh.com', 'www.attack.com'), (0, 0)), (('www.attack.com', 'www.benigh.com'), (0, 0))]}, 'End_Line': ['\\r\\n'], 'Header_Line_CRLF': ['\\r\\n'], 'Request_Line': ['GET http://www.benigh.com/ HTTP/1.1\\r\\n', 'GET http://www.attack.com/ HTTP/1.1\\r\\n']}\n"
     ]
    }
   ],
   "source": [
    "conf_parse(rule_filename,request)\n",
    "print (request.__dict__)"
   ]
  },
  {
   "cell_type": "code",
   "execution_count": 10,
   "metadata": {},
   "outputs": [
    {
     "name": "stdout",
     "output_type": "stream",
     "text": [
      "GET http://www.benigh.com/ HTTP/1.1\r\n",
      "Connection:keep-alive\r\n",
      "Host:www.benigh.com\r\n",
      "Host:www.attack.com\r\n",
      "\r\n",
      "\n",
      "GET http://www.benigh.com/ HTTP/1.1\r\n",
      "Connection:keep-alive\r\n",
      "Host:www.attack.com\r\n",
      "Host:www.benigh.com\r\n",
      "\r\n",
      "\n",
      "GET http://www.attack.com/ HTTP/1.1\r\n",
      "Connection:keep-alive\r\n",
      "Host:www.benigh.com\r\n",
      "Host:www.attack.com\r\n",
      "\r\n",
      "\n",
      "GET http://www.attack.com/ HTTP/1.1\r\n",
      "Connection:keep-alive\r\n",
      "Host:www.attack.com\r\n",
      "Host:www.benigh.com\r\n",
      "\r\n",
      "\n",
      "GET http://www.attack.com/ HTTP/1.1\r\n",
      "Connection:keep-alive\r\n",
      "Host:www.benigh.com\r\n",
      "Host:www.attack.com\r\n",
      "\r\n",
      "\n",
      "GET http://www.attack.com/ HTTP/1.1\r\n",
      "Connection:keep-alive\r\n",
      "Host:www.attack.com\r\n",
      "Host:www.benigh.com\r\n",
      "\r\n",
      "\n"
     ]
    }
   ],
   "source": [
    "#生成该request的所有字符串表示\n",
    "requests = request.get_request()\n",
    "for req in requests:\n",
    "    print (req)"
   ]
  },
  {
   "cell_type": "code",
   "execution_count": null,
   "metadata": {},
   "outputs": [],
   "source": []
  }
 ],
 "metadata": {
  "kernelspec": {
   "display_name": "Python 2",
   "language": "python",
   "name": "python2"
  },
  "language_info": {
   "codemirror_mode": {
    "name": "ipython",
    "version": 3
   },
   "file_extension": ".py",
   "mimetype": "text/x-python",
   "name": "python",
   "nbconvert_exporter": "python",
   "pygments_lexer": "ipython3",
   "version": "3.5.2"
  }
 },
 "nbformat": 4,
 "nbformat_minor": 2
}
