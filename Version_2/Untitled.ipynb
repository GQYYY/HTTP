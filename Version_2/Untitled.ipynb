{
 "cells": [
  {
   "cell_type": "code",
   "execution_count": 1,
   "metadata": {},
   "outputs": [],
   "source": [
    "import http_request\n",
    "import utils"
   ]
  },
  {
   "cell_type": "code",
   "execution_count": 2,
   "metadata": {},
   "outputs": [
    {
     "data": {
      "text/plain": [
       "{'Header_Copy': [{'name': 'Host',\n",
       "   'num': 2,\n",
       "   'value': ['www.benigh.com', 'www.attack.com']},\n",
       "  {'name': 'Connection', 'num': 1, 'value': ['keep-alive']}]}"
      ]
     },
     "execution_count": 2,
     "metadata": {},
     "output_type": "execute_result"
    }
   ],
   "source": [
    "rule = utils.load('/home/gqy/Desktop/Http_Gengerator/Version_2/rule.conf')\n",
    "rule"
   ]
  },
  {
   "cell_type": "code",
   "execution_count": 3,
   "metadata": {},
   "outputs": [
    {
     "data": {
      "text/plain": [
       "{'name': 'Host', 'num': 2, 'value': ['www.benigh.com', 'www.attack.com']}"
      ]
     },
     "execution_count": 3,
     "metadata": {},
     "output_type": "execute_result"
    }
   ],
   "source": [
    "Host = rule.get('Header_Copy')[0]\n",
    "Host"
   ]
  },
  {
   "cell_type": "code",
   "execution_count": 4,
   "metadata": {},
   "outputs": [
    {
     "data": {
      "text/plain": [
       "{'name': 'Connection', 'num': 1, 'value': ['keep-alive']}"
      ]
     },
     "execution_count": 4,
     "metadata": {},
     "output_type": "execute_result"
    }
   ],
   "source": [
    "Conn = rule.get('Header_Copy')[1]\n",
    "Conn"
   ]
  },
  {
   "cell_type": "code",
   "execution_count": 5,
   "metadata": {},
   "outputs": [
    {
     "name": "stdout",
     "output_type": "stream",
     "text": [
      "{'End_Line': [], 'Headers': {}, 'Request_Line': [], 'Header_Lines': [], 'Header_Line_CRLF': []}\n"
     ]
    }
   ],
   "source": [
    "r = http_request.Request()\n",
    "print (r.__dict__)"
   ]
  },
  {
   "cell_type": "code",
   "execution_count": 6,
   "metadata": {},
   "outputs": [
    {
     "data": {
      "text/plain": [
       "{'End_Line': ['\\r\\n'],\n",
       " 'Header_Line_CRLF': ['\\r\\n'],\n",
       " 'Request_Line': {'HTTP_Version': ['HTTP/1.1'],\n",
       "  'Line_CRLF': ['\\r\\n'],\n",
       "  'Method': ['GET'],\n",
       "  'Request_URI': ['http://www.benigh.com/', 'http://www.attack.com/'],\n",
       "  'Space': [' ']}}"
      ]
     },
     "execution_count": 6,
     "metadata": {},
     "output_type": "execute_result"
    }
   ],
   "source": [
    "grammar = utils.load('/home/gqy/Desktop/Http_Gengerator/Version_2/grammar.conf')\n",
    "grammar"
   ]
  },
  {
   "cell_type": "code",
   "execution_count": 7,
   "metadata": {},
   "outputs": [
    {
     "data": {
      "text/plain": [
       "{'HTTP_Version': ['HTTP/1.1'],\n",
       " 'Line_CRLF': ['\\r\\n'],\n",
       " 'Method': ['GET'],\n",
       " 'Request_URI': ['http://www.benigh.com/', 'http://www.attack.com/'],\n",
       " 'Space': [' ']}"
      ]
     },
     "execution_count": 7,
     "metadata": {},
     "output_type": "execute_result"
    }
   ],
   "source": [
    "request_line = grammar.get('Request_Line')\n",
    "request_line"
   ]
  },
  {
   "cell_type": "code",
   "execution_count": 8,
   "metadata": {},
   "outputs": [
    {
     "name": "stdout",
     "output_type": "stream",
     "text": [
      "{'End_Line': [], 'Headers': {}, 'Request_Line': ['GET http://www.benigh.com/ HTTP/1.1\\r\\n', 'GET http://www.attack.com/ HTTP/1.1\\r\\n'], 'Header_Lines': [], 'Header_Line_CRLF': []}\n"
     ]
    }
   ],
   "source": [
    "r.request_line(**request_line)\n",
    "print(r.__dict__)"
   ]
  },
  {
   "cell_type": "code",
   "execution_count": 9,
   "metadata": {},
   "outputs": [
    {
     "name": "stdout",
     "output_type": "stream",
     "text": [
      "name---> Host\n",
      "num---> 2\n",
      "value---> ['www.benigh.com', 'www.attack.com']\n",
      "style---> []\n",
      "{'End_Line': [], 'Headers': {'Host': [(('www.benigh.com', 'www.attack.com'), (0, 0)), (('www.attack.com', 'www.benigh.com'), (0, 0))]}, 'Request_Line': ['GET http://www.benigh.com/ HTTP/1.1\\r\\n', 'GET http://www.attack.com/ HTTP/1.1\\r\\n'], 'Header_Lines': [], 'Header_Line_CRLF': []}\n"
     ]
    }
   ],
   "source": [
    "r.header_copy(**Host)\n",
    "print(r.__dict__)"
   ]
  },
  {
   "cell_type": "code",
   "execution_count": 10,
   "metadata": {},
   "outputs": [
    {
     "name": "stdout",
     "output_type": "stream",
     "text": [
      "name---> Connection\n",
      "num---> 1\n",
      "value---> ['keep-alive']\n",
      "style---> [0, 0]\n",
      "{'End_Line': [], 'Headers': {'Host': [(('www.benigh.com', 'www.attack.com'), (0, 0)), (('www.attack.com', 'www.benigh.com'), (0, 0))], 'Connection': [(('keep-alive',), (0, 0))]}, 'Request_Line': ['GET http://www.benigh.com/ HTTP/1.1\\r\\n', 'GET http://www.attack.com/ HTTP/1.1\\r\\n'], 'Header_Lines': [], 'Header_Line_CRLF': []}\n"
     ]
    }
   ],
   "source": [
    "r.header_copy(**Conn)\n",
    "print(r.__dict__)"
   ]
  },
  {
   "cell_type": "code",
   "execution_count": 11,
   "metadata": {},
   "outputs": [
    {
     "name": "stdout",
     "output_type": "stream",
     "text": [
      "{'End_Line': ['\\r\\n'], 'Headers': {'Host': [(('www.benigh.com', 'www.attack.com'), (0, 0)), (('www.attack.com', 'www.benigh.com'), (0, 0))], 'Connection': [(('keep-alive',), (0, 0))]}, 'Request_Line': ['GET http://www.benigh.com/ HTTP/1.1\\r\\n', 'GET http://www.attack.com/ HTTP/1.1\\r\\n'], 'Header_Lines': [], 'Header_Line_CRLF': ['\\r\\n']}\n"
     ]
    }
   ],
   "source": [
    "r.Header_Line_CRLF=['\\r\\n']\n",
    "r.End_Line=['\\r\\n']\n",
    "print(r.__dict__)"
   ]
  },
  {
   "cell_type": "code",
   "execution_count": 12,
   "metadata": {},
   "outputs": [
    {
     "name": "stdout",
     "output_type": "stream",
     "text": [
      "['Host:www.benigh.com\\r\\nHost:www.attack.com\\r\\nConnection:keep-alive\\r\\n', 'Host:www.attack.com\\r\\nHost:www.benigh.com\\r\\nConnection:keep-alive\\r\\n']\n"
     ]
    }
   ],
   "source": [
    "r.header_lines()\n",
    "print (r.Header_Lines)"
   ]
  },
  {
   "cell_type": "code",
   "execution_count": 13,
   "metadata": {},
   "outputs": [
    {
     "data": {
      "text/plain": [
       "['GET http://www.benigh.com/ HTTP/1.1\\r\\nHost:www.benigh.com\\r\\nHost:www.attack.com\\r\\nConnection:keep-alive\\r\\n\\r\\n',\n",
       " 'GET http://www.benigh.com/ HTTP/1.1\\r\\nHost:www.attack.com\\r\\nHost:www.benigh.com\\r\\nConnection:keep-alive\\r\\n\\r\\n',\n",
       " 'GET http://www.attack.com/ HTTP/1.1\\r\\nHost:www.benigh.com\\r\\nHost:www.attack.com\\r\\nConnection:keep-alive\\r\\n\\r\\n',\n",
       " 'GET http://www.attack.com/ HTTP/1.1\\r\\nHost:www.attack.com\\r\\nHost:www.benigh.com\\r\\nConnection:keep-alive\\r\\n\\r\\n']"
      ]
     },
     "execution_count": 13,
     "metadata": {},
     "output_type": "execute_result"
    }
   ],
   "source": [
    "r.get_request()"
   ]
  },
  {
   "cell_type": "code",
   "execution_count": null,
   "metadata": {},
   "outputs": [],
   "source": []
  }
 ],
 "metadata": {
  "kernelspec": {
   "display_name": "Python 3",
   "language": "python",
   "name": "python3"
  },
  "language_info": {
   "codemirror_mode": {
    "name": "ipython",
    "version": 3
   },
   "file_extension": ".py",
   "mimetype": "text/x-python",
   "name": "python",
   "nbconvert_exporter": "python",
   "pygments_lexer": "ipython3",
   "version": "3.5.2"
  }
 },
 "nbformat": 4,
 "nbformat_minor": 2
}
