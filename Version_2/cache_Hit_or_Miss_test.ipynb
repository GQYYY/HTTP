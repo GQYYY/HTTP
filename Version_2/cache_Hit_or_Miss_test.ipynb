{
 "cells": [
  {
   "cell_type": "code",
   "execution_count": 12,
   "metadata": {},
   "outputs": [],
   "source": [
    "import socket"
   ]
  },
  {
   "cell_type": "code",
   "execution_count": 13,
   "metadata": {},
   "outputs": [],
   "source": [
    "target_host = '192.168.8.162'\n",
    "target_port = 80"
   ]
  },
  {
   "cell_type": "code",
   "execution_count": 14,
   "metadata": {},
   "outputs": [],
   "source": [
    "#建立一个socket对象\n",
    "client = socket.socket(socket.AF_INET,socket.SOCK_STREAM)\n",
    "#客户端链接服务器端\n",
    "client.connect((target_host,target_port))"
   ]
  },
  {
   "cell_type": "code",
   "execution_count": 15,
   "metadata": {},
   "outputs": [],
   "source": [
    "request_benigh = b'GET / HTTP/1.1\\r\\nHost:www.benigh.com\\r\\n\\r\\n'\n",
    "request_attack = b'GET / HTTP/1.1\\r\\nHost:www.attack.com\\r\\n\\r\\n'"
   ]
  },
  {
   "cell_type": "code",
   "execution_count": 16,
   "metadata": {},
   "outputs": [
    {
     "name": "stdout",
     "output_type": "stream",
     "text": [
      "HTTP/1.1 200 OK\r\n",
      "Server: nginx/1.13.6\r\n",
      "Date: Thu, 07 Dec 2017 07:44:32 GMT\r\n",
      "Content-Type: text/html\r\n",
      "Content-Length: 315\r\n",
      "Connection: keep-alive\r\n",
      "Last-Modified: Tue, 05 Dec 2017 06:33:03 GMT\r\n",
      "ETag: \"5a263d9f-13b\"\r\n",
      "X-Via: 192.168.8.162\r\n",
      "X-Cache: MISS\r\n",
      "Accept-Ranges: bytes\r\n",
      "\r\n",
      "<!DOCTYPE html>\n",
      "<html>\n",
      "<head>\n",
      "<title>Benigh!</title>\n",
      "<style>\n",
      "    body {\n",
      "        width: 35em;\n",
      "        margin: 0 auto;\n",
      "        font-family: Tahoma, Verdana, Arial, sans-serif;\n",
      "    }\n",
      "</style>\n",
      "</head>\n",
      "<body>\n",
      "<h1>Welcome to www.benigh.com!</h1>\n",
      "\n",
      "<p><em>Thank you for logining in www.benigh.com!</em></p>\n",
      "</body>\n",
      "</html>\n",
      "\n",
      "*****************\n",
      "HTTP/1.1 200 OK\r\n",
      "Server: nginx/1.13.6\r\n",
      "Date: Thu, 07 Dec 2017 07:44:32 GMT\r\n",
      "Content-Type: text/html\r\n",
      "Content-Length: 315\r\n",
      "Connection: keep-alive\r\n",
      "Last-Modified: Tue, 05 Dec 2017 06:33:03 GMT\r\n",
      "ETag: \"5a263d9f-13b\"\r\n",
      "X-Via: 192.168.8.162\r\n",
      "X-Cache: HIT\r\n",
      "Accept-Ranges: bytes\r\n",
      "\r\n",
      "\n",
      "*****************\n",
      "<!DOCTYPE html>\n",
      "<html>\n",
      "<head>\n",
      "<title>Benigh!</title>\n",
      "<style>\n",
      "    body {\n",
      "        width: 35em;\n",
      "        margin: 0 auto;\n",
      "        font-family: Tahoma, Verdana, Arial, sans-serif;\n",
      "    }\n",
      "</style>\n",
      "</head>\n",
      "<body>\n",
      "<h1>Welcome to www.benigh.com!</h1>\n",
      "\n",
      "<p><em>Thank you for logining in www.benigh.com!</em></p>\n",
      "</body>\n",
      "</html>\n",
      "HTTP/1.1 200 OK\r\n",
      "Server: nginx/1.13.6\r\n",
      "Date: Thu, 07 Dec 2017 07:44:32 GMT\r\n",
      "Content-Type: text/html\r\n",
      "Content-Length: 315\r\n",
      "Connection: keep-alive\r\n",
      "Last-Modified: Tue, 05 Dec 2017 06:33:03 GMT\r\n",
      "ETag: \"5a263d9f-13b\"\r\n",
      "X-Via: 192.168.8.162\r\n",
      "X-Cache: HIT\r\n",
      "Accept-Ranges: bytes\r\n",
      "\r\n",
      "<!DOCTYPE html>\n",
      "<html>\n",
      "<head>\n",
      "<title>Benigh!</title>\n",
      "<style>\n",
      "    body {\n",
      "        width: 35em;\n",
      "        margin: 0 auto;\n",
      "        font-family: Tahoma, Verdana, Arial, sans-serif;\n",
      "    }\n",
      "</style>\n",
      "</head>\n",
      "<body>\n",
      "<h1>Welcome to www.benigh.com!</h1>\n",
      "\n",
      "<p><em>Thank you for logining in www.benigh.com!</em></p>\n",
      "</body>\n",
      "</html>\n",
      "\n",
      "*****************\n"
     ]
    }
   ],
   "source": [
    "for i in range(3):\n",
    "    #发送数据\n",
    "    client.send(request_benigh)\n",
    "    #接收服务器返回的resonse\n",
    "    #返回bypes类型\n",
    "    response = client.recv(4096)\n",
    "    response = bytes.decode(response)\n",
    "    print (response)\n",
    "    print ('*****************')"
   ]
  },
  {
   "cell_type": "code",
   "execution_count": null,
   "metadata": {},
   "outputs": [],
   "source": []
  },
  {
   "cell_type": "code",
   "execution_count": null,
   "metadata": {},
   "outputs": [],
   "source": []
  }
 ],
 "metadata": {
  "kernelspec": {
   "display_name": "Python 3",
   "language": "python",
   "name": "python3"
  },
  "language_info": {
   "codemirror_mode": {
    "name": "ipython",
    "version": 3
   },
   "file_extension": ".py",
   "mimetype": "text/x-python",
   "name": "python",
   "nbconvert_exporter": "python",
   "pygments_lexer": "ipython3",
   "version": "3.5.2"
  }
 },
 "nbformat": 4,
 "nbformat_minor": 2
}
